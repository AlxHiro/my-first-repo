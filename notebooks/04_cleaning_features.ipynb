{
 "cells": [
  {
   "cell_type": "code",
   "execution_count": 1,
   "id": "4ea5d74d-e1c0-430e-a854-222b4608be9b",
   "metadata": {},
   "outputs": [],
   "source": [
    "import pandas as pd\n",
    "import seaborn as sns\n",
    "import matplotlib.pyplot as plt\n",
    "import matplotlib.pyplot as plt\n",
    "# Seaborn 風格\n",
    "sns.set_style(\"whitegrid\")\n",
    "\n",
    "\n",
    "# 先告訴 matplotlib：主要字型族群用 sans-serif\n",
    "plt.rcParams['font.family']        = 'sans-serif'\n",
    "# 再告訴 sans-serif 裡面要把正黑體放第一\n",
    "plt.rcParams['font.sans-serif']   = ['Microsoft JhengHei']\n",
    "# 讓負號正常顯示\n",
    "plt.rcParams['axes.unicode_minus'] = False\n",
    "\n",
    "# 讀取 CSV\n",
    "df = pd.read_csv(\"../data/titanic.csv\")\n",
    "\n"
   ]
  },
  {
   "cell_type": "code",
   "execution_count": 2,
   "id": "856643a4-86c4-4313-9bf6-5cbe19f75393",
   "metadata": {},
   "outputs": [],
   "source": [
    "df[\"Age\"]      = df[\"Age\"]     .fillna(df[\"Age\"].median())\n",
    "df[\"Embarked\"] = df[\"Embarked\"].fillna(df[\"Embarked\"].mode()[0])\n",
    "df[\"Fare\"]     = df[\"Fare\"]    .fillna(df[\"Fare\"].median())\n"
   ]
  },
  {
   "cell_type": "code",
   "execution_count": 3,
   "id": "8a0f2add-b7d2-4389-96ee-48ca3fd19241",
   "metadata": {},
   "outputs": [],
   "source": [
    "# 1. 先建立 HasCabin\n",
    "df[\"HasCabin\"] = df[\"Cabin\"].notnull().astype(int)\n",
    "\n",
    "# 2. 然後再刪除 Cabin\n",
    "df.drop(columns=[\"Cabin\"], inplace=True)\n"
   ]
  },
  {
   "cell_type": "code",
   "execution_count": 4,
   "id": "53afbe41-1f08-4966-9c19-5cd4e0f5ead5",
   "metadata": {},
   "outputs": [],
   "source": [
    "df[\"FamilySize\"] = df[\"SibSp\"] + df[\"Parch\"] + 1\n",
    "df[\"IsAlone\"] = (df[\"FamilySize\"] == 1).astype(int)\n",
    "df[\"FareBin\"] = pd.qcut(df[\"Fare\"], 4, labels=[\"Low\", \"Med\", \"High\", \"VeryHigh\"])\n",
    "df[\"AgeGroup\"] = pd.cut(df[\"Age\"], bins=[0, 12, 18, 35, 60, 100],\n",
    "                        labels=[\"Child\", \"Teen\", \"YoungAdult\", \"Adult\", \"Senior\"])\n"
   ]
  },
  {
   "cell_type": "code",
   "execution_count": 5,
   "id": "d63de1ca-9077-4f38-b53a-f3fa91c4f8ed",
   "metadata": {},
   "outputs": [],
   "source": [
    "df.to_csv(\"../data/titanic_clean.csv\", index=False)\n",
    "df.to_parquet(\"../data/titanic_clean.parquet\")\n"
   ]
  },
  {
   "cell_type": "code",
   "execution_count": null,
   "id": "75c99259-84e5-48f0-97ce-7b338ea57c2e",
   "metadata": {},
   "outputs": [],
   "source": []
  },
  {
   "cell_type": "code",
   "execution_count": null,
   "id": "3f6e24ed-53e2-437a-98e8-4a59c481edd2",
   "metadata": {},
   "outputs": [],
   "source": []
  }
 ],
 "metadata": {
  "kernelspec": {
   "display_name": "Python 3 (ipykernel)",
   "language": "python",
   "name": "python3"
  },
  "language_info": {
   "codemirror_mode": {
    "name": "ipython",
    "version": 3
   },
   "file_extension": ".py",
   "mimetype": "text/x-python",
   "name": "python",
   "nbconvert_exporter": "python",
   "pygments_lexer": "ipython3",
   "version": "3.13.5"
  }
 },
 "nbformat": 4,
 "nbformat_minor": 5
}
